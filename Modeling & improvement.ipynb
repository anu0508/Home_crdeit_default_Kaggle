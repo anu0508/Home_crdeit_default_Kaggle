{
 "cells": [
  {
   "cell_type": "code",
   "execution_count": 70,
   "metadata": {},
   "outputs": [],
   "source": [
    "import numpy as np\n",
    "import pandas as pd\n",
    "train_data=pd.read_csv('application_train.csv')"
   ]
  },
  {
   "cell_type": "code",
   "execution_count": 71,
   "metadata": {},
   "outputs": [],
   "source": [
    "test=pd.read_csv('application_test.csv')"
   ]
  },
  {
   "cell_type": "code",
   "execution_count": 72,
   "metadata": {},
   "outputs": [
    {
     "data": {
      "text/plain": [
       "(307511, 122)"
      ]
     },
     "execution_count": 72,
     "metadata": {},
     "output_type": "execute_result"
    }
   ],
   "source": [
    "train_data.shape"
   ]
  },
  {
   "cell_type": "code",
   "execution_count": 73,
   "metadata": {},
   "outputs": [],
   "source": [
    "def missing_values_table(df):\n",
    "        # Total missing values\n",
    "        mis_val = df.isnull().sum()\n",
    "        \n",
    "        # Percentage of missing values\n",
    "        mis_val_percent = 100 * df.isnull().sum() / len(df)\n",
    "        \n",
    "        # Make a table with the results\n",
    "        mis_val_table = pd.concat([mis_val, mis_val_percent], axis=1)\n",
    "        \n",
    "        # Rename the columns\n",
    "        mis_val_table_ren_columns = mis_val_table.rename(\n",
    "        columns = {0 : 'Missing Values', 1 : '% of Total Values'})\n",
    "        \n",
    "        # Sort the table by percentage of missing descending\n",
    "        mis_val_table_ren_columns = mis_val_table_ren_columns[\n",
    "            mis_val_table_ren_columns.iloc[:,1] != 0].sort_values(\n",
    "        '% of Total Values', ascending=False).round(1)\n",
    "        \n",
    "         # Print some summary information\n",
    "        print (\"Your selected dataframe has \" + str(df.shape[1]) + \" columns.\\n\"      \n",
    "            \"There are \" + str(mis_val_table_ren_columns.shape[0]) +\n",
    "              \" columns that have missing values.\")\n",
    "        \n",
    "        # Return the dataframe with missing information\n",
    "        return mis_val_table_ren_columns"
   ]
  },
  {
   "cell_type": "code",
   "execution_count": 74,
   "metadata": {},
   "outputs": [
    {
     "name": "stdout",
     "output_type": "stream",
     "text": [
      "Your selected dataframe has 122 columns.\n",
      "There are 67 columns that have missing values.\n"
     ]
    },
    {
     "data": {
      "text/html": [
       "<div>\n",
       "<style scoped>\n",
       "    .dataframe tbody tr th:only-of-type {\n",
       "        vertical-align: middle;\n",
       "    }\n",
       "\n",
       "    .dataframe tbody tr th {\n",
       "        vertical-align: top;\n",
       "    }\n",
       "\n",
       "    .dataframe thead th {\n",
       "        text-align: right;\n",
       "    }\n",
       "</style>\n",
       "<table border=\"1\" class=\"dataframe\">\n",
       "  <thead>\n",
       "    <tr style=\"text-align: right;\">\n",
       "      <th></th>\n",
       "      <th>Missing Values</th>\n",
       "      <th>% of Total Values</th>\n",
       "    </tr>\n",
       "  </thead>\n",
       "  <tbody>\n",
       "    <tr>\n",
       "      <th>COMMONAREA_MEDI</th>\n",
       "      <td>214865</td>\n",
       "      <td>69.9</td>\n",
       "    </tr>\n",
       "    <tr>\n",
       "      <th>COMMONAREA_AVG</th>\n",
       "      <td>214865</td>\n",
       "      <td>69.9</td>\n",
       "    </tr>\n",
       "    <tr>\n",
       "      <th>COMMONAREA_MODE</th>\n",
       "      <td>214865</td>\n",
       "      <td>69.9</td>\n",
       "    </tr>\n",
       "    <tr>\n",
       "      <th>NONLIVINGAPARTMENTS_MEDI</th>\n",
       "      <td>213514</td>\n",
       "      <td>69.4</td>\n",
       "    </tr>\n",
       "    <tr>\n",
       "      <th>NONLIVINGAPARTMENTS_MODE</th>\n",
       "      <td>213514</td>\n",
       "      <td>69.4</td>\n",
       "    </tr>\n",
       "    <tr>\n",
       "      <th>NONLIVINGAPARTMENTS_AVG</th>\n",
       "      <td>213514</td>\n",
       "      <td>69.4</td>\n",
       "    </tr>\n",
       "    <tr>\n",
       "      <th>FONDKAPREMONT_MODE</th>\n",
       "      <td>210295</td>\n",
       "      <td>68.4</td>\n",
       "    </tr>\n",
       "    <tr>\n",
       "      <th>LIVINGAPARTMENTS_MODE</th>\n",
       "      <td>210199</td>\n",
       "      <td>68.4</td>\n",
       "    </tr>\n",
       "    <tr>\n",
       "      <th>LIVINGAPARTMENTS_MEDI</th>\n",
       "      <td>210199</td>\n",
       "      <td>68.4</td>\n",
       "    </tr>\n",
       "    <tr>\n",
       "      <th>LIVINGAPARTMENTS_AVG</th>\n",
       "      <td>210199</td>\n",
       "      <td>68.4</td>\n",
       "    </tr>\n",
       "    <tr>\n",
       "      <th>FLOORSMIN_MODE</th>\n",
       "      <td>208642</td>\n",
       "      <td>67.8</td>\n",
       "    </tr>\n",
       "    <tr>\n",
       "      <th>FLOORSMIN_MEDI</th>\n",
       "      <td>208642</td>\n",
       "      <td>67.8</td>\n",
       "    </tr>\n",
       "    <tr>\n",
       "      <th>FLOORSMIN_AVG</th>\n",
       "      <td>208642</td>\n",
       "      <td>67.8</td>\n",
       "    </tr>\n",
       "    <tr>\n",
       "      <th>YEARS_BUILD_MODE</th>\n",
       "      <td>204488</td>\n",
       "      <td>66.5</td>\n",
       "    </tr>\n",
       "    <tr>\n",
       "      <th>YEARS_BUILD_MEDI</th>\n",
       "      <td>204488</td>\n",
       "      <td>66.5</td>\n",
       "    </tr>\n",
       "    <tr>\n",
       "      <th>YEARS_BUILD_AVG</th>\n",
       "      <td>204488</td>\n",
       "      <td>66.5</td>\n",
       "    </tr>\n",
       "    <tr>\n",
       "      <th>OWN_CAR_AGE</th>\n",
       "      <td>202929</td>\n",
       "      <td>66.0</td>\n",
       "    </tr>\n",
       "    <tr>\n",
       "      <th>LANDAREA_AVG</th>\n",
       "      <td>182590</td>\n",
       "      <td>59.4</td>\n",
       "    </tr>\n",
       "    <tr>\n",
       "      <th>LANDAREA_MEDI</th>\n",
       "      <td>182590</td>\n",
       "      <td>59.4</td>\n",
       "    </tr>\n",
       "    <tr>\n",
       "      <th>LANDAREA_MODE</th>\n",
       "      <td>182590</td>\n",
       "      <td>59.4</td>\n",
       "    </tr>\n",
       "  </tbody>\n",
       "</table>\n",
       "</div>"
      ],
      "text/plain": [
       "                          Missing Values  % of Total Values\n",
       "COMMONAREA_MEDI                   214865               69.9\n",
       "COMMONAREA_AVG                    214865               69.9\n",
       "COMMONAREA_MODE                   214865               69.9\n",
       "NONLIVINGAPARTMENTS_MEDI          213514               69.4\n",
       "NONLIVINGAPARTMENTS_MODE          213514               69.4\n",
       "NONLIVINGAPARTMENTS_AVG           213514               69.4\n",
       "FONDKAPREMONT_MODE                210295               68.4\n",
       "LIVINGAPARTMENTS_MODE             210199               68.4\n",
       "LIVINGAPARTMENTS_MEDI             210199               68.4\n",
       "LIVINGAPARTMENTS_AVG              210199               68.4\n",
       "FLOORSMIN_MODE                    208642               67.8\n",
       "FLOORSMIN_MEDI                    208642               67.8\n",
       "FLOORSMIN_AVG                     208642               67.8\n",
       "YEARS_BUILD_MODE                  204488               66.5\n",
       "YEARS_BUILD_MEDI                  204488               66.5\n",
       "YEARS_BUILD_AVG                   204488               66.5\n",
       "OWN_CAR_AGE                       202929               66.0\n",
       "LANDAREA_AVG                      182590               59.4\n",
       "LANDAREA_MEDI                     182590               59.4\n",
       "LANDAREA_MODE                     182590               59.4"
      ]
     },
     "execution_count": 74,
     "metadata": {},
     "output_type": "execute_result"
    }
   ],
   "source": [
    "# Missing values statistics\n",
    "missing_values = missing_values_table(train_data)\n",
    "missing_values.head(20)"
   ]
  },
  {
   "cell_type": "code",
   "execution_count": 75,
   "metadata": {},
   "outputs": [
    {
     "data": {
      "text/plain": [
       "(array([ 2,  3,  4,  5, 11, 12, 13, 14, 15, 28, 32, 40, 86, 87, 89, 90],\n",
       "       dtype=int64),)"
      ]
     },
     "execution_count": 75,
     "metadata": {},
     "output_type": "execute_result"
    }
   ],
   "source": [
    "# Number of each type of column\n",
    "np.where(train_data.dtypes=='object')"
   ]
  },
  {
   "cell_type": "code",
   "execution_count": 76,
   "metadata": {},
   "outputs": [
    {
     "data": {
      "text/plain": [
       "float64    65\n",
       "int64      41\n",
       "object     16\n",
       "dtype: int64"
      ]
     },
     "execution_count": 76,
     "metadata": {},
     "output_type": "execute_result"
    }
   ],
   "source": [
    "# Number of each type of column\n",
    "train_data.dtypes.value_counts()"
   ]
  },
  {
   "cell_type": "code",
   "execution_count": 77,
   "metadata": {},
   "outputs": [
    {
     "data": {
      "text/plain": [
       "NAME_CONTRACT_TYPE             2\n",
       "CODE_GENDER                    3\n",
       "FLAG_OWN_CAR                   2\n",
       "FLAG_OWN_REALTY                2\n",
       "NAME_TYPE_SUITE                7\n",
       "NAME_INCOME_TYPE               8\n",
       "NAME_EDUCATION_TYPE            5\n",
       "NAME_FAMILY_STATUS             6\n",
       "NAME_HOUSING_TYPE              6\n",
       "OCCUPATION_TYPE               18\n",
       "WEEKDAY_APPR_PROCESS_START     7\n",
       "ORGANIZATION_TYPE             58\n",
       "FONDKAPREMONT_MODE             4\n",
       "HOUSETYPE_MODE                 3\n",
       "WALLSMATERIAL_MODE             7\n",
       "EMERGENCYSTATE_MODE            2\n",
       "dtype: int64"
      ]
     },
     "execution_count": 77,
     "metadata": {},
     "output_type": "execute_result"
    }
   ],
   "source": [
    "train_data.select_dtypes('object').apply(pd.Series.nunique, axis = 0)\n"
   ]
  },
  {
   "cell_type": "code",
   "execution_count": 78,
   "metadata": {},
   "outputs": [
    {
     "data": {
      "text/plain": [
       "SK_ID_CURR                    307511\n",
       "TARGET                             2\n",
       "NAME_CONTRACT_TYPE                 2\n",
       "CODE_GENDER                        3\n",
       "FLAG_OWN_CAR                       2\n",
       "FLAG_OWN_REALTY                    2\n",
       "CNT_CHILDREN                      15\n",
       "AMT_INCOME_TOTAL                2548\n",
       "AMT_CREDIT                      5603\n",
       "AMT_ANNUITY                    13672\n",
       "AMT_GOODS_PRICE                 1002\n",
       "NAME_TYPE_SUITE                    7\n",
       "NAME_INCOME_TYPE                   8\n",
       "NAME_EDUCATION_TYPE                5\n",
       "NAME_FAMILY_STATUS                 6\n",
       "NAME_HOUSING_TYPE                  6\n",
       "REGION_POPULATION_RELATIVE        81\n",
       "DAYS_BIRTH                     17460\n",
       "DAYS_EMPLOYED                  12574\n",
       "DAYS_REGISTRATION              15688\n",
       "DAYS_ID_PUBLISH                 6168\n",
       "OWN_CAR_AGE                       62\n",
       "FLAG_MOBIL                         2\n",
       "FLAG_EMP_PHONE                     2\n",
       "FLAG_WORK_PHONE                    2\n",
       "FLAG_CONT_MOBILE                   2\n",
       "FLAG_PHONE                         2\n",
       "FLAG_EMAIL                         2\n",
       "OCCUPATION_TYPE                   18\n",
       "CNT_FAM_MEMBERS                   17\n",
       "                               ...  \n",
       "DEF_30_CNT_SOCIAL_CIRCLE          10\n",
       "OBS_60_CNT_SOCIAL_CIRCLE          33\n",
       "DEF_60_CNT_SOCIAL_CIRCLE           9\n",
       "DAYS_LAST_PHONE_CHANGE          3773\n",
       "FLAG_DOCUMENT_2                    2\n",
       "FLAG_DOCUMENT_3                    2\n",
       "FLAG_DOCUMENT_4                    2\n",
       "FLAG_DOCUMENT_5                    2\n",
       "FLAG_DOCUMENT_6                    2\n",
       "FLAG_DOCUMENT_7                    2\n",
       "FLAG_DOCUMENT_8                    2\n",
       "FLAG_DOCUMENT_9                    2\n",
       "FLAG_DOCUMENT_10                   2\n",
       "FLAG_DOCUMENT_11                   2\n",
       "FLAG_DOCUMENT_12                   2\n",
       "FLAG_DOCUMENT_13                   2\n",
       "FLAG_DOCUMENT_14                   2\n",
       "FLAG_DOCUMENT_15                   2\n",
       "FLAG_DOCUMENT_16                   2\n",
       "FLAG_DOCUMENT_17                   2\n",
       "FLAG_DOCUMENT_18                   2\n",
       "FLAG_DOCUMENT_19                   2\n",
       "FLAG_DOCUMENT_20                   2\n",
       "FLAG_DOCUMENT_21                   2\n",
       "AMT_REQ_CREDIT_BUREAU_HOUR         5\n",
       "AMT_REQ_CREDIT_BUREAU_DAY          9\n",
       "AMT_REQ_CREDIT_BUREAU_WEEK         9\n",
       "AMT_REQ_CREDIT_BUREAU_MON         24\n",
       "AMT_REQ_CREDIT_BUREAU_QRT         11\n",
       "AMT_REQ_CREDIT_BUREAU_YEAR        25\n",
       "Length: 122, dtype: int64"
      ]
     },
     "execution_count": 78,
     "metadata": {},
     "output_type": "execute_result"
    }
   ],
   "source": [
    "train_data.nunique()"
   ]
  },
  {
   "cell_type": "code",
   "execution_count": 79,
   "metadata": {},
   "outputs": [
    {
     "name": "stdout",
     "output_type": "stream",
     "text": [
      "3 columns were label encoded.\n"
     ]
    }
   ],
   "source": [
    "# Create a label encoder object\n",
    "from sklearn.preprocessing import LabelEncoder\n",
    "le = LabelEncoder()\n",
    "le_count = 0\n",
    "\n",
    "# Iterate through the columns\n",
    "for col in train_data:\n",
    "    if train_data[col].dtype == 'object':\n",
    "        # If 2 or fewer unique categories\n",
    "        if len(list(train_data[col].unique())) <= 2:\n",
    "            # Train on the training data\n",
    "            le.fit(train_data[col])\n",
    "            # Transform both training and testing data\n",
    "            train_data[col] = le.transform(train_data[col])\n",
    "            test[col] = le.transform(test[col])\n",
    "            \n",
    "            # Keep track of how many columns were label encoded\n",
    "            le_count += 1\n",
    "            \n",
    "print('%d columns were label encoded.' % le_count)"
   ]
  },
  {
   "cell_type": "code",
   "execution_count": 80,
   "metadata": {},
   "outputs": [
    {
     "name": "stdout",
     "output_type": "stream",
     "text": [
      "F      202448\n",
      "M      105059\n",
      "XNA         4\n",
      "Name: CODE_GENDER, dtype: int64\n",
      "Unaccompanied      248526\n",
      "Family              40149\n",
      "Spouse, partner     11370\n",
      "Children             3267\n",
      "Other_B              1770\n",
      "Other_A               866\n",
      "Group of people       271\n",
      "Name: NAME_TYPE_SUITE, dtype: int64\n",
      "Working                 158774\n",
      "Commercial associate     71617\n",
      "Pensioner                55362\n",
      "State servant            21703\n",
      "Unemployed                  22\n",
      "Student                     18\n",
      "Businessman                 10\n",
      "Maternity leave              5\n",
      "Name: NAME_INCOME_TYPE, dtype: int64\n",
      "Secondary / secondary special    218391\n",
      "Higher education                  74863\n",
      "Incomplete higher                 10277\n",
      "Lower secondary                    3816\n",
      "Academic degree                     164\n",
      "Name: NAME_EDUCATION_TYPE, dtype: int64\n",
      "Married                 196432\n",
      "Single / not married     45444\n",
      "Civil marriage           29775\n",
      "Separated                19770\n",
      "Widow                    16088\n",
      "Unknown                      2\n",
      "Name: NAME_FAMILY_STATUS, dtype: int64\n",
      "House / apartment      272868\n",
      "With parents            14840\n",
      "Municipal apartment     11183\n",
      "Rented apartment         4881\n",
      "Office apartment         2617\n",
      "Co-op apartment          1122\n",
      "Name: NAME_HOUSING_TYPE, dtype: int64\n",
      "Laborers                 55186\n",
      "Sales staff              32102\n",
      "Core staff               27570\n",
      "Managers                 21371\n",
      "Drivers                  18603\n",
      "High skill tech staff    11380\n",
      "Accountants               9813\n",
      "Medicine staff            8537\n",
      "Security staff            6721\n",
      "Cooking staff             5946\n",
      "Cleaning staff            4653\n",
      "Private service staff     2652\n",
      "Low-skill Laborers        2093\n",
      "Waiters/barmen staff      1348\n",
      "Secretaries               1305\n",
      "Realty agents              751\n",
      "HR staff                   563\n",
      "IT staff                   526\n",
      "Name: OCCUPATION_TYPE, dtype: int64\n",
      "TUESDAY      53901\n",
      "WEDNESDAY    51934\n",
      "MONDAY       50714\n",
      "THURSDAY     50591\n",
      "FRIDAY       50338\n",
      "SATURDAY     33852\n",
      "SUNDAY       16181\n",
      "Name: WEEKDAY_APPR_PROCESS_START, dtype: int64\n",
      "Business Entity Type 3    67992\n",
      "XNA                       55374\n",
      "Self-employed             38412\n",
      "Other                     16683\n",
      "Medicine                  11193\n",
      "Business Entity Type 2    10553\n",
      "Government                10404\n",
      "School                     8893\n",
      "Trade: type 7              7831\n",
      "Kindergarten               6880\n",
      "Construction               6721\n",
      "Business Entity Type 1     5984\n",
      "Transport: type 4          5398\n",
      "Trade: type 3              3492\n",
      "Industry: type 9           3368\n",
      "Industry: type 3           3278\n",
      "Security                   3247\n",
      "Housing                    2958\n",
      "Industry: type 11          2704\n",
      "Military                   2634\n",
      "Bank                       2507\n",
      "Agriculture                2454\n",
      "Police                     2341\n",
      "Transport: type 2          2204\n",
      "Postal                     2157\n",
      "Security Ministries        1974\n",
      "Trade: type 2              1900\n",
      "Restaurant                 1811\n",
      "Services                   1575\n",
      "University                 1327\n",
      "Industry: type 7           1307\n",
      "Transport: type 3          1187\n",
      "Industry: type 1           1039\n",
      "Hotel                       966\n",
      "Electricity                 950\n",
      "Industry: type 4            877\n",
      "Trade: type 6               631\n",
      "Industry: type 5            599\n",
      "Insurance                   597\n",
      "Telecom                     577\n",
      "Emergency                   560\n",
      "Industry: type 2            458\n",
      "Advertising                 429\n",
      "Realtor                     396\n",
      "Culture                     379\n",
      "Industry: type 12           369\n",
      "Trade: type 1               348\n",
      "Mobile                      317\n",
      "Legal Services              305\n",
      "Cleaning                    260\n",
      "Transport: type 1           201\n",
      "Industry: type 6            112\n",
      "Industry: type 10           109\n",
      "Religion                     85\n",
      "Industry: type 13            67\n",
      "Trade: type 4                64\n",
      "Trade: type 5                49\n",
      "Industry: type 8             24\n",
      "Name: ORGANIZATION_TYPE, dtype: int64\n",
      "reg oper account         73830\n",
      "reg oper spec account    12080\n",
      "not specified             5687\n",
      "org spec account          5619\n",
      "Name: FONDKAPREMONT_MODE, dtype: int64\n",
      "block of flats      150503\n",
      "specific housing      1499\n",
      "terraced house        1212\n",
      "Name: HOUSETYPE_MODE, dtype: int64\n",
      "Panel           66040\n",
      "Stone, brick    64815\n",
      "Block            9253\n",
      "Wooden           5362\n",
      "Mixed            2296\n",
      "Monolithic       1779\n",
      "Others           1625\n",
      "Name: WALLSMATERIAL_MODE, dtype: int64\n",
      "No     159428\n",
      "Yes      2328\n",
      "Name: EMERGENCYSTATE_MODE, dtype: int64\n"
     ]
    }
   ],
   "source": [
    "for i in train_data.columns:\n",
    "    if train_data[i].dtypes=='object':\n",
    "        print(train_data[i].value_counts())"
   ]
  },
  {
   "cell_type": "code",
   "execution_count": 81,
   "metadata": {},
   "outputs": [],
   "source": [
    "#one hot encoding\n",
    "train_data= pd.get_dummies(train_data)"
   ]
  },
  {
   "cell_type": "code",
   "execution_count": 82,
   "metadata": {},
   "outputs": [],
   "source": [
    "test= pd.get_dummies(test)"
   ]
  },
  {
   "cell_type": "code",
   "execution_count": 83,
   "metadata": {},
   "outputs": [
    {
     "data": {
      "text/plain": [
       "(307511, 243)"
      ]
     },
     "execution_count": 83,
     "metadata": {},
     "output_type": "execute_result"
    }
   ],
   "source": [
    "train_data.shape"
   ]
  },
  {
   "cell_type": "code",
   "execution_count": 84,
   "metadata": {},
   "outputs": [
    {
     "data": {
      "text/plain": [
       "(48744, 239)"
      ]
     },
     "execution_count": 84,
     "metadata": {},
     "output_type": "execute_result"
    }
   ],
   "source": [
    "test.shape"
   ]
  },
  {
   "cell_type": "markdown",
   "metadata": {},
   "source": [
    "<h1>Aligning Training and Testing Data</h1>\n",
    "<body>There need to be the same features (columns) in both the training and testing data. One-hot encoding has created more columns in the training data because there were some categorical variables with categories not represented in the testing data. To remove the columns in the training data that are not in the testing data, we need to align the dataframes. First we extract the target column from the training data (because this is not in the testing data but we need to keep this information). When we do the align, we must make sure to set axis = 1 to align the dataframes based on the columns and not on the rows!</body>"
   ]
  },
  {
   "cell_type": "code",
   "execution_count": 85,
   "metadata": {},
   "outputs": [],
   "source": [
    "train_target=train_data['TARGET']"
   ]
  },
  {
   "cell_type": "code",
   "execution_count": 86,
   "metadata": {},
   "outputs": [],
   "source": [
    "train_data, test = train_data.align(test, join = 'inner', axis = 1)"
   ]
  },
  {
   "cell_type": "code",
   "execution_count": 87,
   "metadata": {},
   "outputs": [
    {
     "data": {
      "text/plain": [
       "(307511, 239)"
      ]
     },
     "execution_count": 87,
     "metadata": {},
     "output_type": "execute_result"
    }
   ],
   "source": [
    "train_data.shape"
   ]
  },
  {
   "cell_type": "code",
   "execution_count": 88,
   "metadata": {},
   "outputs": [
    {
     "data": {
      "text/plain": [
       "(48744, 239)"
      ]
     },
     "execution_count": 88,
     "metadata": {},
     "output_type": "execute_result"
    }
   ],
   "source": [
    "test.shape"
   ]
  },
  {
   "cell_type": "code",
   "execution_count": 89,
   "metadata": {},
   "outputs": [],
   "source": [
    "train_data['TARGET']=train_target"
   ]
  },
  {
   "cell_type": "code",
   "execution_count": 90,
   "metadata": {},
   "outputs": [
    {
     "data": {
      "text/plain": [
       "(307511, 240)"
      ]
     },
     "execution_count": 90,
     "metadata": {},
     "output_type": "execute_result"
    }
   ],
   "source": [
    "train_data.shape"
   ]
  },
  {
   "cell_type": "markdown",
   "metadata": {},
   "source": [
    "<h1>Exterior sources</h1>"
   ]
  },
  {
   "cell_type": "code",
   "execution_count": 91,
   "metadata": {},
   "outputs": [
    {
     "data": {
      "text/html": [
       "<div>\n",
       "<style scoped>\n",
       "    .dataframe tbody tr th:only-of-type {\n",
       "        vertical-align: middle;\n",
       "    }\n",
       "\n",
       "    .dataframe tbody tr th {\n",
       "        vertical-align: top;\n",
       "    }\n",
       "\n",
       "    .dataframe thead th {\n",
       "        text-align: right;\n",
       "    }\n",
       "</style>\n",
       "<table border=\"1\" class=\"dataframe\">\n",
       "  <thead>\n",
       "    <tr style=\"text-align: right;\">\n",
       "      <th></th>\n",
       "      <th>TARGET</th>\n",
       "      <th>EXT_SOURCE_1</th>\n",
       "      <th>EXT_SOURCE_2</th>\n",
       "      <th>EXT_SOURCE_3</th>\n",
       "      <th>DAYS_BIRTH</th>\n",
       "    </tr>\n",
       "  </thead>\n",
       "  <tbody>\n",
       "    <tr>\n",
       "      <th>TARGET</th>\n",
       "      <td>1.000000</td>\n",
       "      <td>-0.155317</td>\n",
       "      <td>-0.160472</td>\n",
       "      <td>-0.178919</td>\n",
       "      <td>0.078239</td>\n",
       "    </tr>\n",
       "    <tr>\n",
       "      <th>EXT_SOURCE_1</th>\n",
       "      <td>-0.155317</td>\n",
       "      <td>1.000000</td>\n",
       "      <td>0.213982</td>\n",
       "      <td>0.186846</td>\n",
       "      <td>-0.600610</td>\n",
       "    </tr>\n",
       "    <tr>\n",
       "      <th>EXT_SOURCE_2</th>\n",
       "      <td>-0.160472</td>\n",
       "      <td>0.213982</td>\n",
       "      <td>1.000000</td>\n",
       "      <td>0.109167</td>\n",
       "      <td>-0.091996</td>\n",
       "    </tr>\n",
       "    <tr>\n",
       "      <th>EXT_SOURCE_3</th>\n",
       "      <td>-0.178919</td>\n",
       "      <td>0.186846</td>\n",
       "      <td>0.109167</td>\n",
       "      <td>1.000000</td>\n",
       "      <td>-0.205478</td>\n",
       "    </tr>\n",
       "    <tr>\n",
       "      <th>DAYS_BIRTH</th>\n",
       "      <td>0.078239</td>\n",
       "      <td>-0.600610</td>\n",
       "      <td>-0.091996</td>\n",
       "      <td>-0.205478</td>\n",
       "      <td>1.000000</td>\n",
       "    </tr>\n",
       "  </tbody>\n",
       "</table>\n",
       "</div>"
      ],
      "text/plain": [
       "                TARGET  EXT_SOURCE_1  EXT_SOURCE_2  EXT_SOURCE_3  DAYS_BIRTH\n",
       "TARGET        1.000000     -0.155317     -0.160472     -0.178919    0.078239\n",
       "EXT_SOURCE_1 -0.155317      1.000000      0.213982      0.186846   -0.600610\n",
       "EXT_SOURCE_2 -0.160472      0.213982      1.000000      0.109167   -0.091996\n",
       "EXT_SOURCE_3 -0.178919      0.186846      0.109167      1.000000   -0.205478\n",
       "DAYS_BIRTH    0.078239     -0.600610     -0.091996     -0.205478    1.000000"
      ]
     },
     "execution_count": 91,
     "metadata": {},
     "output_type": "execute_result"
    }
   ],
   "source": [
    "# Extract the EXT_SOURCE variables and show correlations\n",
    "ext_data = train_data[['TARGET', 'EXT_SOURCE_1', 'EXT_SOURCE_2', 'EXT_SOURCE_3', 'DAYS_BIRTH']]\n",
    "ext_data_corrs = ext_data.corr()\n",
    "ext_data_corrs"
   ]
  },
  {
   "cell_type": "code",
   "execution_count": 92,
   "metadata": {},
   "outputs": [],
   "source": [
    "poly_features= train_data[['TARGET','EXT_SOURCE_1', 'EXT_SOURCE_2', 'EXT_SOURCE_3', 'DAYS_BIRTH']]\n"
   ]
  },
  {
   "cell_type": "code",
   "execution_count": 93,
   "metadata": {},
   "outputs": [],
   "source": [
    "poly_features_test= test[['EXT_SOURCE_1', 'EXT_SOURCE_2', 'EXT_SOURCE_3', 'DAYS_BIRTH']]\n"
   ]
  },
  {
   "cell_type": "code",
   "execution_count": 94,
   "metadata": {},
   "outputs": [],
   "source": [
    "# to impute missing values we gonna use sklearn.imputer method \n",
    "\n",
    "from sklearn.preprocessing import Imputer\n",
    "imputer= Imputer(strategy='median')\n",
    "#poly_features['TARGET']=poly_target\n",
    "poly_target = poly_features['TARGET']\n",
    "poly_features = poly_features.drop(columns = ['TARGET'])\n",
    "# Need to impute missing values\n",
    "poly_features = imputer.fit_transform(poly_features)\n",
    "poly_features_test = imputer.transform(poly_features_test)\n",
    "\n",
    "\n",
    "# Create the polynomial object with specified degree\n",
    "#poly_transformer = PolynomialFeatures(degree = 3)"
   ]
  },
  {
   "cell_type": "code",
   "execution_count": 95,
   "metadata": {},
   "outputs": [],
   "source": [
    "from sklearn.preprocessing import PolynomialFeatures\n",
    "\n",
    "# Create the polynomial object with specified degree\n",
    "poly_transformer = PolynomialFeatures(degree = 3)"
   ]
  },
  {
   "cell_type": "code",
   "execution_count": 96,
   "metadata": {},
   "outputs": [
    {
     "name": "stdout",
     "output_type": "stream",
     "text": [
      "Polynomial Features shape:  (307511, 35)\n"
     ]
    }
   ],
   "source": [
    "# Train the polynomial features\n",
    "poly_transformer.fit(poly_features)\n",
    "\n",
    "# Transform the features\n",
    "poly_features = poly_transformer.transform(poly_features)\n",
    "poly_features_test = poly_transformer.transform(poly_features_test)\n",
    "print('Polynomial Features shape: ', poly_features.shape)"
   ]
  },
  {
   "cell_type": "code",
   "execution_count": 97,
   "metadata": {},
   "outputs": [
    {
     "data": {
      "text/plain": [
       "['1',\n",
       " 'EXT_SOURCE_1',\n",
       " 'EXT_SOURCE_2',\n",
       " 'EXT_SOURCE_3',\n",
       " 'DAYS_BIRTH',\n",
       " 'EXT_SOURCE_1^2',\n",
       " 'EXT_SOURCE_1 EXT_SOURCE_2',\n",
       " 'EXT_SOURCE_1 EXT_SOURCE_3',\n",
       " 'EXT_SOURCE_1 DAYS_BIRTH',\n",
       " 'EXT_SOURCE_2^2',\n",
       " 'EXT_SOURCE_2 EXT_SOURCE_3',\n",
       " 'EXT_SOURCE_2 DAYS_BIRTH',\n",
       " 'EXT_SOURCE_3^2',\n",
       " 'EXT_SOURCE_3 DAYS_BIRTH',\n",
       " 'DAYS_BIRTH^2']"
      ]
     },
     "execution_count": 97,
     "metadata": {},
     "output_type": "execute_result"
    }
   ],
   "source": [
    "poly_transformer.get_feature_names(input_features = ['EXT_SOURCE_1', 'EXT_SOURCE_2', 'EXT_SOURCE_3', 'DAYS_BIRTH'])[:15]"
   ]
  },
  {
   "cell_type": "code",
   "execution_count": 98,
   "metadata": {},
   "outputs": [],
   "source": [
    "# Create a dataframe of the features \n",
    "poly_features = pd.DataFrame(poly_features, \n",
    "                             columns = poly_transformer.get_feature_names(['EXT_SOURCE_1', 'EXT_SOURCE_2', \n",
    "                                                                           'EXT_SOURCE_3', 'DAYS_BIRTH']))"
   ]
  },
  {
   "cell_type": "code",
   "execution_count": 99,
   "metadata": {},
   "outputs": [
    {
     "data": {
      "text/plain": [
       "Index(['1', 'EXT_SOURCE_1', 'EXT_SOURCE_2', 'EXT_SOURCE_3', 'DAYS_BIRTH',\n",
       "       'EXT_SOURCE_1^2', 'EXT_SOURCE_1 EXT_SOURCE_2',\n",
       "       'EXT_SOURCE_1 EXT_SOURCE_3', 'EXT_SOURCE_1 DAYS_BIRTH',\n",
       "       'EXT_SOURCE_2^2', 'EXT_SOURCE_2 EXT_SOURCE_3',\n",
       "       'EXT_SOURCE_2 DAYS_BIRTH', 'EXT_SOURCE_3^2', 'EXT_SOURCE_3 DAYS_BIRTH',\n",
       "       'DAYS_BIRTH^2', 'EXT_SOURCE_1^3', 'EXT_SOURCE_1^2 EXT_SOURCE_2',\n",
       "       'EXT_SOURCE_1^2 EXT_SOURCE_3', 'EXT_SOURCE_1^2 DAYS_BIRTH',\n",
       "       'EXT_SOURCE_1 EXT_SOURCE_2^2', 'EXT_SOURCE_1 EXT_SOURCE_2 EXT_SOURCE_3',\n",
       "       'EXT_SOURCE_1 EXT_SOURCE_2 DAYS_BIRTH', 'EXT_SOURCE_1 EXT_SOURCE_3^2',\n",
       "       'EXT_SOURCE_1 EXT_SOURCE_3 DAYS_BIRTH', 'EXT_SOURCE_1 DAYS_BIRTH^2',\n",
       "       'EXT_SOURCE_2^3', 'EXT_SOURCE_2^2 EXT_SOURCE_3',\n",
       "       'EXT_SOURCE_2^2 DAYS_BIRTH', 'EXT_SOURCE_2 EXT_SOURCE_3^2',\n",
       "       'EXT_SOURCE_2 EXT_SOURCE_3 DAYS_BIRTH', 'EXT_SOURCE_2 DAYS_BIRTH^2',\n",
       "       'EXT_SOURCE_3^3', 'EXT_SOURCE_3^2 DAYS_BIRTH',\n",
       "       'EXT_SOURCE_3 DAYS_BIRTH^2', 'DAYS_BIRTH^3'],\n",
       "      dtype='object')"
      ]
     },
     "execution_count": 99,
     "metadata": {},
     "output_type": "execute_result"
    }
   ],
   "source": [
    "poly_features.columns"
   ]
  },
  {
   "cell_type": "code",
   "execution_count": 100,
   "metadata": {},
   "outputs": [
    {
     "name": "stdout",
     "output_type": "stream",
     "text": [
      "EXT_SOURCE_2 EXT_SOURCE_3                -0.193939\n",
      "EXT_SOURCE_1 EXT_SOURCE_2 EXT_SOURCE_3   -0.189605\n",
      "EXT_SOURCE_2^2 EXT_SOURCE_3              -0.176428\n",
      "EXT_SOURCE_2 EXT_SOURCE_3^2              -0.172282\n",
      "EXT_SOURCE_1 EXT_SOURCE_2                -0.166625\n",
      "EXT_SOURCE_1 EXT_SOURCE_3                -0.164065\n",
      "EXT_SOURCE_2                             -0.160295\n",
      "EXT_SOURCE_1 EXT_SOURCE_2^2              -0.156867\n",
      "EXT_SOURCE_3                             -0.155892\n",
      "EXT_SOURCE_1 EXT_SOURCE_3^2              -0.150822\n",
      "Name: TARGET, dtype: float64\n",
      "EXT_SOURCE_1 EXT_SOURCE_2 DAYS_BIRTH    0.155891\n",
      "EXT_SOURCE_2 DAYS_BIRTH                 0.156873\n",
      "EXT_SOURCE_2 EXT_SOURCE_3 DAYS_BIRTH    0.181283\n",
      "TARGET                                  1.000000\n",
      "1                                            NaN\n",
      "Name: TARGET, dtype: float64\n"
     ]
    }
   ],
   "source": [
    "# Add in the target\n",
    "poly_features['TARGET'] = poly_target\n",
    "\n",
    "# Find the correlations with the target\n",
    "poly_corrs = poly_features.corr()['TARGET'].sort_values()\n",
    "\n",
    "# Display most negative and most positive\n",
    "print(poly_corrs.head(10))\n",
    "print(poly_corrs.tail(5))"
   ]
  },
  {
   "cell_type": "code",
   "execution_count": 101,
   "metadata": {},
   "outputs": [],
   "source": [
    "poly_features.to_pickle(\"Poly_features.csv\")"
   ]
  },
  {
   "cell_type": "code",
   "execution_count": 102,
   "metadata": {},
   "outputs": [
    {
     "name": "stdout",
     "output_type": "stream",
     "text": [
      "Training data with polynomial features shape:  (307511, 274)\n",
      "Testing data with polynomial features shape:   (48744, 274)\n"
     ]
    }
   ],
   "source": [
    "# Put test features into dataframe\n",
    "poly_features_test = pd.DataFrame(poly_features_test, \n",
    "                                  columns = poly_transformer.get_feature_names(['EXT_SOURCE_1', 'EXT_SOURCE_2', \n",
    "                                                                                'EXT_SOURCE_3', 'DAYS_BIRTH']))\n",
    "\n",
    "# Merge polynomial features into training dataframe\n",
    "poly_features['SK_ID_CURR'] = train_data['SK_ID_CURR']\n",
    "train_data_poly = train_data.merge(poly_features, on = 'SK_ID_CURR', how = 'left')\n",
    "\n",
    "# Merge polnomial features into testing dataframe\n",
    "poly_features_test['SK_ID_CURR'] = test['SK_ID_CURR']\n",
    "test_poly = test.merge(poly_features_test, on = 'SK_ID_CURR', how = 'left')\n",
    "\n",
    "# Align the dataframes\n",
    "train_data_poly, test_poly = train_data_poly.align(test_poly, join = 'inner', axis = 1)\n",
    "\n",
    "# Print out the new shapes\n",
    "print('Training data with polynomial features shape: ', train_data_poly.shape)\n",
    "print('Testing data with polynomial features shape:  ', test_poly.shape)"
   ]
  },
  {
   "cell_type": "code",
   "execution_count": 103,
   "metadata": {},
   "outputs": [
    {
     "data": {
      "text/plain": [
       "SK_ID_CURR                                     0\n",
       "NAME_CONTRACT_TYPE                             0\n",
       "FLAG_OWN_CAR                                   0\n",
       "FLAG_OWN_REALTY                                0\n",
       "CNT_CHILDREN                                   0\n",
       "AMT_INCOME_TOTAL                               0\n",
       "AMT_CREDIT                                     0\n",
       "AMT_ANNUITY                                   12\n",
       "AMT_GOODS_PRICE                              278\n",
       "REGION_POPULATION_RELATIVE                     0\n",
       "DAYS_BIRTH_x                                   0\n",
       "DAYS_EMPLOYED                                  0\n",
       "DAYS_REGISTRATION                              0\n",
       "DAYS_ID_PUBLISH                                0\n",
       "OWN_CAR_AGE                               202929\n",
       "FLAG_MOBIL                                     0\n",
       "FLAG_EMP_PHONE                                 0\n",
       "FLAG_WORK_PHONE                                0\n",
       "FLAG_CONT_MOBILE                               0\n",
       "FLAG_PHONE                                     0\n",
       "FLAG_EMAIL                                     0\n",
       "CNT_FAM_MEMBERS                                2\n",
       "REGION_RATING_CLIENT                           0\n",
       "REGION_RATING_CLIENT_W_CITY                    0\n",
       "HOUR_APPR_PROCESS_START                        0\n",
       "REG_REGION_NOT_LIVE_REGION                     0\n",
       "REG_REGION_NOT_WORK_REGION                     0\n",
       "LIVE_REGION_NOT_WORK_REGION                    0\n",
       "REG_CITY_NOT_LIVE_CITY                         0\n",
       "REG_CITY_NOT_WORK_CITY                         0\n",
       "                                           ...  \n",
       "EXT_SOURCE_1^2                                 0\n",
       "EXT_SOURCE_1 EXT_SOURCE_2                      0\n",
       "EXT_SOURCE_1 EXT_SOURCE_3                      0\n",
       "EXT_SOURCE_1 DAYS_BIRTH                        0\n",
       "EXT_SOURCE_2^2                                 0\n",
       "EXT_SOURCE_2 EXT_SOURCE_3                      0\n",
       "EXT_SOURCE_2 DAYS_BIRTH                        0\n",
       "EXT_SOURCE_3^2                                 0\n",
       "EXT_SOURCE_3 DAYS_BIRTH                        0\n",
       "DAYS_BIRTH^2                                   0\n",
       "EXT_SOURCE_1^3                                 0\n",
       "EXT_SOURCE_1^2 EXT_SOURCE_2                    0\n",
       "EXT_SOURCE_1^2 EXT_SOURCE_3                    0\n",
       "EXT_SOURCE_1^2 DAYS_BIRTH                      0\n",
       "EXT_SOURCE_1 EXT_SOURCE_2^2                    0\n",
       "EXT_SOURCE_1 EXT_SOURCE_2 EXT_SOURCE_3         0\n",
       "EXT_SOURCE_1 EXT_SOURCE_2 DAYS_BIRTH           0\n",
       "EXT_SOURCE_1 EXT_SOURCE_3^2                    0\n",
       "EXT_SOURCE_1 EXT_SOURCE_3 DAYS_BIRTH           0\n",
       "EXT_SOURCE_1 DAYS_BIRTH^2                      0\n",
       "EXT_SOURCE_2^3                                 0\n",
       "EXT_SOURCE_2^2 EXT_SOURCE_3                    0\n",
       "EXT_SOURCE_2^2 DAYS_BIRTH                      0\n",
       "EXT_SOURCE_2 EXT_SOURCE_3^2                    0\n",
       "EXT_SOURCE_2 EXT_SOURCE_3 DAYS_BIRTH           0\n",
       "EXT_SOURCE_2 DAYS_BIRTH^2                      0\n",
       "EXT_SOURCE_3^3                                 0\n",
       "EXT_SOURCE_3^2 DAYS_BIRTH                      0\n",
       "EXT_SOURCE_3 DAYS_BIRTH^2                      0\n",
       "DAYS_BIRTH^3                                   0\n",
       "Length: 274, dtype: int64"
      ]
     },
     "execution_count": 103,
     "metadata": {},
     "output_type": "execute_result"
    }
   ],
   "source": [
    "train_data_poly.isnull().sum()\n"
   ]
  },
  {
   "cell_type": "code",
   "execution_count": 104,
   "metadata": {},
   "outputs": [
    {
     "data": {
      "text/plain": [
       "SK_ID_CURR                                    0\n",
       "NAME_CONTRACT_TYPE                            0\n",
       "FLAG_OWN_CAR                                  0\n",
       "FLAG_OWN_REALTY                               0\n",
       "CNT_CHILDREN                                  0\n",
       "AMT_INCOME_TOTAL                              0\n",
       "AMT_CREDIT                                    0\n",
       "AMT_ANNUITY                                  24\n",
       "AMT_GOODS_PRICE                               0\n",
       "REGION_POPULATION_RELATIVE                    0\n",
       "DAYS_BIRTH_x                                  0\n",
       "DAYS_EMPLOYED                                 0\n",
       "DAYS_REGISTRATION                             0\n",
       "DAYS_ID_PUBLISH                               0\n",
       "OWN_CAR_AGE                               32312\n",
       "FLAG_MOBIL                                    0\n",
       "FLAG_EMP_PHONE                                0\n",
       "FLAG_WORK_PHONE                               0\n",
       "FLAG_CONT_MOBILE                              0\n",
       "FLAG_PHONE                                    0\n",
       "FLAG_EMAIL                                    0\n",
       "CNT_FAM_MEMBERS                               0\n",
       "REGION_RATING_CLIENT                          0\n",
       "REGION_RATING_CLIENT_W_CITY                   0\n",
       "HOUR_APPR_PROCESS_START                       0\n",
       "REG_REGION_NOT_LIVE_REGION                    0\n",
       "REG_REGION_NOT_WORK_REGION                    0\n",
       "LIVE_REGION_NOT_WORK_REGION                   0\n",
       "REG_CITY_NOT_LIVE_CITY                        0\n",
       "REG_CITY_NOT_WORK_CITY                        0\n",
       "                                          ...  \n",
       "EXT_SOURCE_1^2                                0\n",
       "EXT_SOURCE_1 EXT_SOURCE_2                     0\n",
       "EXT_SOURCE_1 EXT_SOURCE_3                     0\n",
       "EXT_SOURCE_1 DAYS_BIRTH                       0\n",
       "EXT_SOURCE_2^2                                0\n",
       "EXT_SOURCE_2 EXT_SOURCE_3                     0\n",
       "EXT_SOURCE_2 DAYS_BIRTH                       0\n",
       "EXT_SOURCE_3^2                                0\n",
       "EXT_SOURCE_3 DAYS_BIRTH                       0\n",
       "DAYS_BIRTH^2                                  0\n",
       "EXT_SOURCE_1^3                                0\n",
       "EXT_SOURCE_1^2 EXT_SOURCE_2                   0\n",
       "EXT_SOURCE_1^2 EXT_SOURCE_3                   0\n",
       "EXT_SOURCE_1^2 DAYS_BIRTH                     0\n",
       "EXT_SOURCE_1 EXT_SOURCE_2^2                   0\n",
       "EXT_SOURCE_1 EXT_SOURCE_2 EXT_SOURCE_3        0\n",
       "EXT_SOURCE_1 EXT_SOURCE_2 DAYS_BIRTH          0\n",
       "EXT_SOURCE_1 EXT_SOURCE_3^2                   0\n",
       "EXT_SOURCE_1 EXT_SOURCE_3 DAYS_BIRTH          0\n",
       "EXT_SOURCE_1 DAYS_BIRTH^2                     0\n",
       "EXT_SOURCE_2^3                                0\n",
       "EXT_SOURCE_2^2 EXT_SOURCE_3                   0\n",
       "EXT_SOURCE_2^2 DAYS_BIRTH                     0\n",
       "EXT_SOURCE_2 EXT_SOURCE_3^2                   0\n",
       "EXT_SOURCE_2 EXT_SOURCE_3 DAYS_BIRTH          0\n",
       "EXT_SOURCE_2 DAYS_BIRTH^2                     0\n",
       "EXT_SOURCE_3^3                                0\n",
       "EXT_SOURCE_3^2 DAYS_BIRTH                     0\n",
       "EXT_SOURCE_3 DAYS_BIRTH^2                     0\n",
       "DAYS_BIRTH^3                                  0\n",
       "Length: 274, dtype: int64"
      ]
     },
     "execution_count": 104,
     "metadata": {},
     "output_type": "execute_result"
    }
   ],
   "source": [
    "test_poly.isnull().sum()"
   ]
  },
  {
   "cell_type": "code",
   "execution_count": 105,
   "metadata": {},
   "outputs": [
    {
     "data": {
      "text/plain": [
       "Index(['SK_ID_CURR', 'NAME_CONTRACT_TYPE', 'FLAG_OWN_CAR', 'FLAG_OWN_REALTY',\n",
       "       'CNT_CHILDREN', 'AMT_INCOME_TOTAL', 'AMT_CREDIT', 'AMT_ANNUITY',\n",
       "       'AMT_GOODS_PRICE', 'REGION_POPULATION_RELATIVE',\n",
       "       ...\n",
       "       'WALLSMATERIAL_MODE_Block', 'WALLSMATERIAL_MODE_Mixed',\n",
       "       'WALLSMATERIAL_MODE_Monolithic', 'WALLSMATERIAL_MODE_Others',\n",
       "       'WALLSMATERIAL_MODE_Panel', 'WALLSMATERIAL_MODE_Stone, brick',\n",
       "       'WALLSMATERIAL_MODE_Wooden', 'EMERGENCYSTATE_MODE_No',\n",
       "       'EMERGENCYSTATE_MODE_Yes', 'TARGET'],\n",
       "      dtype='object', length=240)"
      ]
     },
     "execution_count": 105,
     "metadata": {},
     "output_type": "execute_result"
    }
   ],
   "source": [
    "train_data.columns"
   ]
  },
  {
   "cell_type": "markdown",
   "metadata": {},
   "source": [
    "<h1>Logistic regression implementation</h1>\n"
   ]
  },
  {
   "cell_type": "code",
   "execution_count": 106,
   "metadata": {},
   "outputs": [],
   "source": [
    "from sklearn.preprocessing import  Imputer\n",
    "\n",
    "# Drop the target from the training data\n",
    "if 'TARGET' in train_data:\n",
    "    train = train_data.drop(columns = ['TARGET'])\n",
    "else:\n",
    "    train = train_data.copy()\n",
    "    "
   ]
  },
  {
   "cell_type": "code",
   "execution_count": 107,
   "metadata": {},
   "outputs": [],
   "source": [
    "# Feature names\n",
    "features = list(train.columns)"
   ]
  },
  {
   "cell_type": "code",
   "execution_count": 108,
   "metadata": {},
   "outputs": [],
   "source": [
    "# Copy of the testing data\n",
    "test_test = test.copy() # after imputation test set would be converted to numpy array which in turn would be made difficult \n",
    "#for visualization."
   ]
  },
  {
   "cell_type": "code",
   "execution_count": 109,
   "metadata": {},
   "outputs": [
    {
     "data": {
      "text/html": [
       "<div>\n",
       "<style scoped>\n",
       "    .dataframe tbody tr th:only-of-type {\n",
       "        vertical-align: middle;\n",
       "    }\n",
       "\n",
       "    .dataframe tbody tr th {\n",
       "        vertical-align: top;\n",
       "    }\n",
       "\n",
       "    .dataframe thead th {\n",
       "        text-align: right;\n",
       "    }\n",
       "</style>\n",
       "<table border=\"1\" class=\"dataframe\">\n",
       "  <thead>\n",
       "    <tr style=\"text-align: right;\">\n",
       "      <th></th>\n",
       "      <th>SK_ID_CURR</th>\n",
       "      <th>NAME_CONTRACT_TYPE</th>\n",
       "      <th>FLAG_OWN_CAR</th>\n",
       "      <th>FLAG_OWN_REALTY</th>\n",
       "      <th>CNT_CHILDREN</th>\n",
       "      <th>AMT_INCOME_TOTAL</th>\n",
       "      <th>AMT_CREDIT</th>\n",
       "      <th>AMT_ANNUITY</th>\n",
       "      <th>AMT_GOODS_PRICE</th>\n",
       "      <th>REGION_POPULATION_RELATIVE</th>\n",
       "      <th>...</th>\n",
       "      <th>HOUSETYPE_MODE_terraced house</th>\n",
       "      <th>WALLSMATERIAL_MODE_Block</th>\n",
       "      <th>WALLSMATERIAL_MODE_Mixed</th>\n",
       "      <th>WALLSMATERIAL_MODE_Monolithic</th>\n",
       "      <th>WALLSMATERIAL_MODE_Others</th>\n",
       "      <th>WALLSMATERIAL_MODE_Panel</th>\n",
       "      <th>WALLSMATERIAL_MODE_Stone, brick</th>\n",
       "      <th>WALLSMATERIAL_MODE_Wooden</th>\n",
       "      <th>EMERGENCYSTATE_MODE_No</th>\n",
       "      <th>EMERGENCYSTATE_MODE_Yes</th>\n",
       "    </tr>\n",
       "  </thead>\n",
       "  <tbody>\n",
       "    <tr>\n",
       "      <th>0</th>\n",
       "      <td>100001</td>\n",
       "      <td>0</td>\n",
       "      <td>0</td>\n",
       "      <td>1</td>\n",
       "      <td>0</td>\n",
       "      <td>135000.0</td>\n",
       "      <td>568800.0</td>\n",
       "      <td>20560.5</td>\n",
       "      <td>450000.0</td>\n",
       "      <td>0.018850</td>\n",
       "      <td>...</td>\n",
       "      <td>0</td>\n",
       "      <td>0</td>\n",
       "      <td>0</td>\n",
       "      <td>0</td>\n",
       "      <td>0</td>\n",
       "      <td>0</td>\n",
       "      <td>1</td>\n",
       "      <td>0</td>\n",
       "      <td>1</td>\n",
       "      <td>0</td>\n",
       "    </tr>\n",
       "    <tr>\n",
       "      <th>1</th>\n",
       "      <td>100005</td>\n",
       "      <td>0</td>\n",
       "      <td>0</td>\n",
       "      <td>1</td>\n",
       "      <td>0</td>\n",
       "      <td>99000.0</td>\n",
       "      <td>222768.0</td>\n",
       "      <td>17370.0</td>\n",
       "      <td>180000.0</td>\n",
       "      <td>0.035792</td>\n",
       "      <td>...</td>\n",
       "      <td>0</td>\n",
       "      <td>0</td>\n",
       "      <td>0</td>\n",
       "      <td>0</td>\n",
       "      <td>0</td>\n",
       "      <td>0</td>\n",
       "      <td>0</td>\n",
       "      <td>0</td>\n",
       "      <td>0</td>\n",
       "      <td>0</td>\n",
       "    </tr>\n",
       "    <tr>\n",
       "      <th>2</th>\n",
       "      <td>100013</td>\n",
       "      <td>0</td>\n",
       "      <td>1</td>\n",
       "      <td>1</td>\n",
       "      <td>0</td>\n",
       "      <td>202500.0</td>\n",
       "      <td>663264.0</td>\n",
       "      <td>69777.0</td>\n",
       "      <td>630000.0</td>\n",
       "      <td>0.019101</td>\n",
       "      <td>...</td>\n",
       "      <td>0</td>\n",
       "      <td>0</td>\n",
       "      <td>0</td>\n",
       "      <td>0</td>\n",
       "      <td>0</td>\n",
       "      <td>0</td>\n",
       "      <td>0</td>\n",
       "      <td>0</td>\n",
       "      <td>0</td>\n",
       "      <td>0</td>\n",
       "    </tr>\n",
       "    <tr>\n",
       "      <th>3</th>\n",
       "      <td>100028</td>\n",
       "      <td>0</td>\n",
       "      <td>0</td>\n",
       "      <td>1</td>\n",
       "      <td>2</td>\n",
       "      <td>315000.0</td>\n",
       "      <td>1575000.0</td>\n",
       "      <td>49018.5</td>\n",
       "      <td>1575000.0</td>\n",
       "      <td>0.026392</td>\n",
       "      <td>...</td>\n",
       "      <td>0</td>\n",
       "      <td>0</td>\n",
       "      <td>0</td>\n",
       "      <td>0</td>\n",
       "      <td>0</td>\n",
       "      <td>1</td>\n",
       "      <td>0</td>\n",
       "      <td>0</td>\n",
       "      <td>1</td>\n",
       "      <td>0</td>\n",
       "    </tr>\n",
       "    <tr>\n",
       "      <th>4</th>\n",
       "      <td>100038</td>\n",
       "      <td>0</td>\n",
       "      <td>1</td>\n",
       "      <td>0</td>\n",
       "      <td>1</td>\n",
       "      <td>180000.0</td>\n",
       "      <td>625500.0</td>\n",
       "      <td>32067.0</td>\n",
       "      <td>625500.0</td>\n",
       "      <td>0.010032</td>\n",
       "      <td>...</td>\n",
       "      <td>0</td>\n",
       "      <td>0</td>\n",
       "      <td>0</td>\n",
       "      <td>0</td>\n",
       "      <td>0</td>\n",
       "      <td>0</td>\n",
       "      <td>0</td>\n",
       "      <td>0</td>\n",
       "      <td>0</td>\n",
       "      <td>0</td>\n",
       "    </tr>\n",
       "  </tbody>\n",
       "</table>\n",
       "<p>5 rows × 239 columns</p>\n",
       "</div>"
      ],
      "text/plain": [
       "   SK_ID_CURR  NAME_CONTRACT_TYPE  FLAG_OWN_CAR  FLAG_OWN_REALTY  \\\n",
       "0      100001                   0             0                1   \n",
       "1      100005                   0             0                1   \n",
       "2      100013                   0             1                1   \n",
       "3      100028                   0             0                1   \n",
       "4      100038                   0             1                0   \n",
       "\n",
       "   CNT_CHILDREN  AMT_INCOME_TOTAL  AMT_CREDIT  AMT_ANNUITY  AMT_GOODS_PRICE  \\\n",
       "0             0          135000.0    568800.0      20560.5         450000.0   \n",
       "1             0           99000.0    222768.0      17370.0         180000.0   \n",
       "2             0          202500.0    663264.0      69777.0         630000.0   \n",
       "3             2          315000.0   1575000.0      49018.5        1575000.0   \n",
       "4             1          180000.0    625500.0      32067.0         625500.0   \n",
       "\n",
       "   REGION_POPULATION_RELATIVE           ...             \\\n",
       "0                    0.018850           ...              \n",
       "1                    0.035792           ...              \n",
       "2                    0.019101           ...              \n",
       "3                    0.026392           ...              \n",
       "4                    0.010032           ...              \n",
       "\n",
       "   HOUSETYPE_MODE_terraced house  WALLSMATERIAL_MODE_Block  \\\n",
       "0                              0                         0   \n",
       "1                              0                         0   \n",
       "2                              0                         0   \n",
       "3                              0                         0   \n",
       "4                              0                         0   \n",
       "\n",
       "   WALLSMATERIAL_MODE_Mixed  WALLSMATERIAL_MODE_Monolithic  \\\n",
       "0                         0                              0   \n",
       "1                         0                              0   \n",
       "2                         0                              0   \n",
       "3                         0                              0   \n",
       "4                         0                              0   \n",
       "\n",
       "   WALLSMATERIAL_MODE_Others  WALLSMATERIAL_MODE_Panel  \\\n",
       "0                          0                         0   \n",
       "1                          0                         0   \n",
       "2                          0                         0   \n",
       "3                          0                         1   \n",
       "4                          0                         0   \n",
       "\n",
       "   WALLSMATERIAL_MODE_Stone, brick  WALLSMATERIAL_MODE_Wooden  \\\n",
       "0                                1                          0   \n",
       "1                                0                          0   \n",
       "2                                0                          0   \n",
       "3                                0                          0   \n",
       "4                                0                          0   \n",
       "\n",
       "   EMERGENCYSTATE_MODE_No  EMERGENCYSTATE_MODE_Yes  \n",
       "0                       1                        0  \n",
       "1                       0                        0  \n",
       "2                       0                        0  \n",
       "3                       1                        0  \n",
       "4                       0                        0  \n",
       "\n",
       "[5 rows x 239 columns]"
      ]
     },
     "execution_count": 109,
     "metadata": {},
     "output_type": "execute_result"
    }
   ],
   "source": [
    "test_test.head()"
   ]
  },
  {
   "cell_type": "code",
   "execution_count": 110,
   "metadata": {},
   "outputs": [
    {
     "data": {
      "text/plain": [
       "Index(['SK_ID_CURR', 'NAME_CONTRACT_TYPE', 'FLAG_OWN_CAR', 'FLAG_OWN_REALTY',\n",
       "       'CNT_CHILDREN', 'AMT_INCOME_TOTAL', 'AMT_CREDIT', 'AMT_ANNUITY',\n",
       "       'AMT_GOODS_PRICE', 'REGION_POPULATION_RELATIVE',\n",
       "       ...\n",
       "       'HOUSETYPE_MODE_terraced house', 'WALLSMATERIAL_MODE_Block',\n",
       "       'WALLSMATERIAL_MODE_Mixed', 'WALLSMATERIAL_MODE_Monolithic',\n",
       "       'WALLSMATERIAL_MODE_Others', 'WALLSMATERIAL_MODE_Panel',\n",
       "       'WALLSMATERIAL_MODE_Stone, brick', 'WALLSMATERIAL_MODE_Wooden',\n",
       "       'EMERGENCYSTATE_MODE_No', 'EMERGENCYSTATE_MODE_Yes'],\n",
       "      dtype='object', length=239)"
      ]
     },
     "execution_count": 110,
     "metadata": {},
     "output_type": "execute_result"
    }
   ],
   "source": [
    "train.columns"
   ]
  },
  {
   "cell_type": "code",
   "execution_count": 111,
   "metadata": {},
   "outputs": [],
   "source": [
    "#ignore_col= ['SK_ID_CURR']"
   ]
  },
  {
   "cell_type": "code",
   "execution_count": 112,
   "metadata": {},
   "outputs": [],
   "source": [
    "# Median imputation of missing values\n",
    "imputer = Imputer(strategy = 'median')\n",
    "\n",
    "\n",
    "#train[\"AMT_GOODS_PRICE\"].fillna(trainX[\"AMT_GOODS_PRICE\"].mean(), inplace = True)"
   ]
  },
  {
   "cell_type": "code",
   "execution_count": 114,
   "metadata": {},
   "outputs": [],
   "source": [
    "# Fit on the training data\n",
    "imputer.fit(train)\n",
    "# Transform both training and testing data\n",
    "train = imputer.transform(train)\n"
   ]
  },
  {
   "cell_type": "code",
   "execution_count": 115,
   "metadata": {},
   "outputs": [],
   "source": [
    "test = imputer.transform(test)"
   ]
  },
  {
   "cell_type": "code",
   "execution_count": 116,
   "metadata": {},
   "outputs": [
    {
     "name": "stdout",
     "output_type": "stream",
     "text": [
      "Training data shape:  (307511, 239)\n",
      "Testing data shape:  (48744, 239)\n"
     ]
    }
   ],
   "source": [
    "print('Training data shape: ', train.shape)\n",
    "print('Testing data shape: ', test.shape)"
   ]
  },
  {
   "cell_type": "code",
   "execution_count": 118,
   "metadata": {},
   "outputs": [],
   "source": [
    "from sklearn.linear_model import LogisticRegression\n",
    "from sklearn.model_selection import train_test_split\n",
    "\n",
    "train_X,test_X,train_y,test_y= train_test_split(train,train_target,test_size=0.25)"
   ]
  },
  {
   "cell_type": "code",
   "execution_count": 119,
   "metadata": {},
   "outputs": [
    {
     "data": {
      "text/plain": [
       "LogisticRegression(C=0.0001, class_weight=None, dual=False,\n",
       "          fit_intercept=True, intercept_scaling=1, max_iter=100,\n",
       "          multi_class='ovr', n_jobs=1, penalty='l2', random_state=None,\n",
       "          solver='liblinear', tol=0.0001, verbose=0, warm_start=False)"
      ]
     },
     "execution_count": 119,
     "metadata": {},
     "output_type": "execute_result"
    }
   ],
   "source": [
    "# Make the model with the specified regularization parameter\n",
    "Classifier = LogisticRegression(C = 0.0001)\n",
    "\n",
    "# Train on the training data\n",
    "Classifier.fit(train_X,train_y)"
   ]
  },
  {
   "cell_type": "code",
   "execution_count": 120,
   "metadata": {},
   "outputs": [],
   "source": [
    "ypred= Classifier.predict(test_X) # predicting on validation set(test_X) "
   ]
  },
  {
   "cell_type": "code",
   "execution_count": 122,
   "metadata": {},
   "outputs": [],
   "source": [
    "from sklearn.metrics import accuracy_score\n",
    "accuracy= accuracy_score(test_y,ypred)"
   ]
  },
  {
   "cell_type": "code",
   "execution_count": 123,
   "metadata": {},
   "outputs": [
    {
     "data": {
      "text/plain": [
       "0.9204713962381956"
      ]
     },
     "execution_count": 123,
     "metadata": {},
     "output_type": "execute_result"
    }
   ],
   "source": [
    "accuracy"
   ]
  },
  {
   "cell_type": "markdown",
   "metadata": {},
   "source": [
    "### K fold cross validation"
   ]
  },
  {
   "cell_type": "code",
   "execution_count": 128,
   "metadata": {},
   "outputs": [],
   "source": [
    "# k fold cross validation\n",
    "from sklearn.model_selection import cross_val_score\n",
    "cv_score= cross_val_score(Classifier, train,train_target,cv=10)"
   ]
  },
  {
   "cell_type": "code",
   "execution_count": 130,
   "metadata": {},
   "outputs": [
    {
     "data": {
      "text/plain": [
       "0.9192581734474498"
      ]
     },
     "execution_count": 130,
     "metadata": {},
     "output_type": "execute_result"
    }
   ],
   "source": [
    "cv_score\n",
    "cv_score.mean()\n",
    "# after performing 10 fold cross validation cv_score is 91.9 which is similar to the accuracy_score of the logistic regresion \n",
    "#classifier"
   ]
  },
  {
   "cell_type": "markdown",
   "metadata": {},
   "source": [
    "### Applying logreg on test set"
   ]
  },
  {
   "cell_type": "code",
   "execution_count": 132,
   "metadata": {},
   "outputs": [],
   "source": [
    "test_pred= Classifier.predict(test)"
   ]
  },
  {
   "cell_type": "code",
   "execution_count": 133,
   "metadata": {},
   "outputs": [
    {
     "data": {
      "text/plain": [
       "(48744,)"
      ]
     },
     "execution_count": 133,
     "metadata": {},
     "output_type": "execute_result"
    }
   ],
   "source": [
    "test_pred.shape"
   ]
  },
  {
   "cell_type": "code",
   "execution_count": 145,
   "metadata": {},
   "outputs": [
    {
     "data": {
      "text/plain": [
       "array([0, 0, 0, ..., 0, 0, 0], dtype=int64)"
      ]
     },
     "execution_count": 145,
     "metadata": {},
     "output_type": "execute_result"
    }
   ],
   "source": [
    "test_pred"
   ]
  },
  {
   "cell_type": "code",
   "execution_count": 66,
   "metadata": {},
   "outputs": [],
   "source": [
    "# Make predictions\n",
    "# Make sure to select the second column only\n",
    "#Classifier_pred = Classifier.predict_proba(test)[:, 1]\n",
    "#ypred=  Classifier.predict(test)"
   ]
  },
  {
   "cell_type": "code",
   "execution_count": 139,
   "metadata": {},
   "outputs": [
    {
     "name": "stderr",
     "output_type": "stream",
     "text": [
      "C:\\Users\\ANURAG\\Anaconda4\\lib\\site-packages\\ipykernel_launcher.py:3: SettingWithCopyWarning: \n",
      "A value is trying to be set on a copy of a slice from a DataFrame.\n",
      "Try using .loc[row_indexer,col_indexer] = value instead\n",
      "\n",
      "See the caveats in the documentation: http://pandas.pydata.org/pandas-docs/stable/indexing.html#indexing-view-versus-copy\n",
      "  This is separate from the ipykernel package so we can avoid doing imports until\n"
     ]
    },
    {
     "data": {
      "text/html": [
       "<div>\n",
       "<style scoped>\n",
       "    .dataframe tbody tr th:only-of-type {\n",
       "        vertical-align: middle;\n",
       "    }\n",
       "\n",
       "    .dataframe tbody tr th {\n",
       "        vertical-align: top;\n",
       "    }\n",
       "\n",
       "    .dataframe thead th {\n",
       "        text-align: right;\n",
       "    }\n",
       "</style>\n",
       "<table border=\"1\" class=\"dataframe\">\n",
       "  <thead>\n",
       "    <tr style=\"text-align: right;\">\n",
       "      <th></th>\n",
       "      <th>SK_ID_CURR</th>\n",
       "      <th>TARGET</th>\n",
       "    </tr>\n",
       "  </thead>\n",
       "  <tbody>\n",
       "    <tr>\n",
       "      <th>0</th>\n",
       "      <td>100001</td>\n",
       "      <td>0</td>\n",
       "    </tr>\n",
       "    <tr>\n",
       "      <th>1</th>\n",
       "      <td>100005</td>\n",
       "      <td>0</td>\n",
       "    </tr>\n",
       "    <tr>\n",
       "      <th>2</th>\n",
       "      <td>100013</td>\n",
       "      <td>0</td>\n",
       "    </tr>\n",
       "    <tr>\n",
       "      <th>3</th>\n",
       "      <td>100028</td>\n",
       "      <td>0</td>\n",
       "    </tr>\n",
       "    <tr>\n",
       "      <th>4</th>\n",
       "      <td>100038</td>\n",
       "      <td>0</td>\n",
       "    </tr>\n",
       "  </tbody>\n",
       "</table>\n",
       "</div>"
      ],
      "text/plain": [
       "   SK_ID_CURR  TARGET\n",
       "0      100001       0\n",
       "1      100005       0\n",
       "2      100013       0\n",
       "3      100028       0\n",
       "4      100038       0"
      ]
     },
     "execution_count": 139,
     "metadata": {},
     "output_type": "execute_result"
    }
   ],
   "source": [
    "# Submission dataframe\n",
    "submit = test_test[['SK_ID_CURR']]\n",
    "submit['TARGET'] = test_pred\n",
    "\n",
    "submit.head()\n"
   ]
  },
  {
   "cell_type": "code",
   "execution_count": 140,
   "metadata": {},
   "outputs": [],
   "source": [
    "#pred=np.apply_along_axis((lambda X: 1 if X>0.5 else 0),0,Classifier_pred)"
   ]
  },
  {
   "cell_type": "code",
   "execution_count": 141,
   "metadata": {},
   "outputs": [],
   "source": [
    "submit.to_csv(\"submit1\")"
   ]
  },
  {
   "cell_type": "code",
   "execution_count": 142,
   "metadata": {},
   "outputs": [],
   "source": [
    "submit.to_csv(\"Logreg.csv\", index = False)"
   ]
  },
  {
   "cell_type": "code",
   "execution_count": null,
   "metadata": {},
   "outputs": [],
   "source": [
    "### Logistic regression performs bad on test set. completely a biased model. shouldn't be deployed."
   ]
  },
  {
   "cell_type": "markdown",
   "metadata": {},
   "source": [
    "### Boosting Algorithm"
   ]
  },
  {
   "cell_type": "code",
   "execution_count": 146,
   "metadata": {},
   "outputs": [],
   "source": [
    "import xgboost as xgb"
   ]
  },
  {
   "cell_type": "code",
   "execution_count": 147,
   "metadata": {},
   "outputs": [],
   "source": [
    "from sklearn.model_selection import train_test_split\n",
    "Xtrain, Xval, ytrain, yval = train_test_split(train_data_poly, train_target, test_size = 0.2,\n",
    "                                             random_state = 1982)"
   ]
  },
  {
   "cell_type": "code",
   "execution_count": 164,
   "metadata": {},
   "outputs": [
    {
     "data": {
      "text/plain": [
       "(356255, 274)"
      ]
     },
     "execution_count": 164,
     "metadata": {},
     "output_type": "execute_result"
    }
   ],
   "source": [
    "#total rows if we append test set to the training set. just for assumption no use in later code\n",
    "\n",
    "train_1=pd.concat([train_data_poly, test_poly], axis= 0)\n",
    "train_1.shape\n"
   ]
  },
  {
   "cell_type": "markdown",
   "metadata": {},
   "source": [
    "### Dmarices for train, val and test set"
   ]
  },
  {
   "cell_type": "code",
   "execution_count": 148,
   "metadata": {},
   "outputs": [],
   "source": [
    "# to feed data to xgboost first training set is transformed into Dmatrix. in code below train, validation and test sets are transformed.\n",
    "xgtrain = xgb.DMatrix(Xtrain, label = ytrain)\n",
    "xgval = xgb.DMatrix(Xval, label = yval) \n",
    "xgtest = xgb.DMatrix(test_poly)"
   ]
  },
  {
   "cell_type": "code",
   "execution_count": 149,
   "metadata": {},
   "outputs": [],
   "source": [
    "watchlist = [(xgtrain,'train'),(xgval, 'eval')]"
   ]
  },
  {
   "cell_type": "code",
   "execution_count": 150,
   "metadata": {},
   "outputs": [],
   "source": [
    "params = {}\n",
    "params[\"objective\"] =  \"binary:logistic\"\n",
    "params[\"booster\"] = \"gbtree\"\n",
    "params[\"max_depth\"] = 7\n",
    "params[\"eval_metric\"] = 'auc'\n",
    "params[\"subsample\"] = 0.8\n",
    "params[\"colsample_bytree\"] = 0.8\n",
    "params[\"silent\"] = 1\n",
    "params[\"seed\"] = 4\n",
    "params[\"eta\"] = 0.1\n",
    "\n",
    "plst = list(params.items())"
   ]
  },
  {
   "cell_type": "code",
   "execution_count": 151,
   "metadata": {},
   "outputs": [
    {
     "name": "stdout",
     "output_type": "stream",
     "text": [
      "[0]\ttrain-auc:0.728899\teval-auc:0.719159\n",
      "Multiple eval metrics have been passed: 'eval-auc' will be used for early stopping.\n",
      "\n",
      "Will train until eval-auc hasn't improved in 10 rounds.\n",
      "[1]\ttrain-auc:0.739615\teval-auc:0.727901\n",
      "[2]\ttrain-auc:0.743493\teval-auc:0.730331\n",
      "[3]\ttrain-auc:0.746647\teval-auc:0.732157\n",
      "[4]\ttrain-auc:0.748434\teval-auc:0.733031\n",
      "[5]\ttrain-auc:0.750148\teval-auc:0.733684\n",
      "[6]\ttrain-auc:0.751463\teval-auc:0.734849\n",
      "[7]\ttrain-auc:0.753843\teval-auc:0.736392\n",
      "[8]\ttrain-auc:0.754705\teval-auc:0.736688\n",
      "[9]\ttrain-auc:0.756517\teval-auc:0.737476\n",
      "[10]\ttrain-auc:0.757547\teval-auc:0.738212\n",
      "[11]\ttrain-auc:0.758811\teval-auc:0.738531\n",
      "[12]\ttrain-auc:0.760089\teval-auc:0.739202\n",
      "[13]\ttrain-auc:0.761021\teval-auc:0.739383\n",
      "[14]\ttrain-auc:0.762294\teval-auc:0.740047\n",
      "[15]\ttrain-auc:0.763177\teval-auc:0.740336\n",
      "[16]\ttrain-auc:0.764168\teval-auc:0.740933\n",
      "[17]\ttrain-auc:0.765922\teval-auc:0.74146\n",
      "[18]\ttrain-auc:0.767297\teval-auc:0.741944\n",
      "[19]\ttrain-auc:0.768141\teval-auc:0.742264\n",
      "[20]\ttrain-auc:0.76935\teval-auc:0.742345\n",
      "[21]\ttrain-auc:0.770739\teval-auc:0.742504\n",
      "[22]\ttrain-auc:0.772084\teval-auc:0.743224\n",
      "[23]\ttrain-auc:0.773021\teval-auc:0.743485\n",
      "[24]\ttrain-auc:0.774152\teval-auc:0.743755\n",
      "[25]\ttrain-auc:0.775337\teval-auc:0.744632\n",
      "[26]\ttrain-auc:0.776553\teval-auc:0.744755\n",
      "[27]\ttrain-auc:0.777667\teval-auc:0.744831\n",
      "[28]\ttrain-auc:0.778843\teval-auc:0.745048\n",
      "[29]\ttrain-auc:0.780395\teval-auc:0.746037\n",
      "[30]\ttrain-auc:0.781823\teval-auc:0.746367\n",
      "[31]\ttrain-auc:0.783154\teval-auc:0.746841\n",
      "[32]\ttrain-auc:0.784289\teval-auc:0.746994\n",
      "[33]\ttrain-auc:0.785359\teval-auc:0.747083\n",
      "[34]\ttrain-auc:0.786581\teval-auc:0.747139\n",
      "[35]\ttrain-auc:0.787913\teval-auc:0.747404\n",
      "[36]\ttrain-auc:0.788895\teval-auc:0.747624\n",
      "[37]\ttrain-auc:0.790234\teval-auc:0.748272\n",
      "[38]\ttrain-auc:0.791705\teval-auc:0.748577\n",
      "[39]\ttrain-auc:0.792875\teval-auc:0.748779\n",
      "[40]\ttrain-auc:0.794289\teval-auc:0.749111\n",
      "[41]\ttrain-auc:0.795674\teval-auc:0.749263\n",
      "[42]\ttrain-auc:0.796762\teval-auc:0.749736\n",
      "[43]\ttrain-auc:0.797727\teval-auc:0.750176\n",
      "[44]\ttrain-auc:0.798707\teval-auc:0.750242\n",
      "[45]\ttrain-auc:0.799938\teval-auc:0.750721\n",
      "[46]\ttrain-auc:0.801283\teval-auc:0.751147\n",
      "[47]\ttrain-auc:0.802401\teval-auc:0.751231\n",
      "[48]\ttrain-auc:0.803553\teval-auc:0.751337\n",
      "[49]\ttrain-auc:0.804468\teval-auc:0.751342\n",
      "[50]\ttrain-auc:0.805538\teval-auc:0.751518\n",
      "[51]\ttrain-auc:0.806339\teval-auc:0.751595\n",
      "[52]\ttrain-auc:0.807535\teval-auc:0.75163\n",
      "[53]\ttrain-auc:0.808541\teval-auc:0.751863\n",
      "[54]\ttrain-auc:0.80914\teval-auc:0.751985\n",
      "[55]\ttrain-auc:0.80995\teval-auc:0.752319\n",
      "[56]\ttrain-auc:0.81078\teval-auc:0.752306\n",
      "[57]\ttrain-auc:0.811362\teval-auc:0.752385\n",
      "[58]\ttrain-auc:0.812512\teval-auc:0.75282\n",
      "[59]\ttrain-auc:0.813489\teval-auc:0.752832\n",
      "[60]\ttrain-auc:0.814194\teval-auc:0.752955\n",
      "[61]\ttrain-auc:0.815265\teval-auc:0.75289\n",
      "[62]\ttrain-auc:0.816192\teval-auc:0.752865\n",
      "[63]\ttrain-auc:0.817031\teval-auc:0.753142\n",
      "[64]\ttrain-auc:0.817576\teval-auc:0.75326\n",
      "[65]\ttrain-auc:0.818541\teval-auc:0.753369\n",
      "[66]\ttrain-auc:0.819118\teval-auc:0.753397\n",
      "[67]\ttrain-auc:0.81961\teval-auc:0.75342\n",
      "[68]\ttrain-auc:0.820507\teval-auc:0.75344\n",
      "[69]\ttrain-auc:0.821195\teval-auc:0.753486\n",
      "[70]\ttrain-auc:0.821983\teval-auc:0.75358\n",
      "[71]\ttrain-auc:0.822862\teval-auc:0.753734\n",
      "[72]\ttrain-auc:0.823414\teval-auc:0.753649\n",
      "[73]\ttrain-auc:0.824177\teval-auc:0.753971\n",
      "[74]\ttrain-auc:0.824567\teval-auc:0.754025\n",
      "[75]\ttrain-auc:0.82499\teval-auc:0.754167\n",
      "[76]\ttrain-auc:0.825398\teval-auc:0.754079\n",
      "[77]\ttrain-auc:0.825691\teval-auc:0.754069\n",
      "[78]\ttrain-auc:0.826172\teval-auc:0.754134\n",
      "[79]\ttrain-auc:0.827157\teval-auc:0.75416\n",
      "[80]\ttrain-auc:0.827926\teval-auc:0.754408\n",
      "[81]\ttrain-auc:0.82841\teval-auc:0.75435\n",
      "[82]\ttrain-auc:0.829289\teval-auc:0.754348\n",
      "[83]\ttrain-auc:0.829987\teval-auc:0.754253\n",
      "[84]\ttrain-auc:0.830263\teval-auc:0.754372\n",
      "[85]\ttrain-auc:0.83064\teval-auc:0.754597\n",
      "[86]\ttrain-auc:0.830943\teval-auc:0.754642\n",
      "[87]\ttrain-auc:0.831268\teval-auc:0.754666\n",
      "[88]\ttrain-auc:0.831704\teval-auc:0.754742\n",
      "[89]\ttrain-auc:0.832081\teval-auc:0.754857\n",
      "[90]\ttrain-auc:0.832728\teval-auc:0.75484\n",
      "[91]\ttrain-auc:0.832995\teval-auc:0.754864\n",
      "[92]\ttrain-auc:0.833598\teval-auc:0.754901\n",
      "[93]\ttrain-auc:0.834591\teval-auc:0.754894\n",
      "[94]\ttrain-auc:0.834932\teval-auc:0.754909\n",
      "[95]\ttrain-auc:0.83536\teval-auc:0.754955\n",
      "[96]\ttrain-auc:0.835855\teval-auc:0.754913\n",
      "[97]\ttrain-auc:0.836143\teval-auc:0.754945\n",
      "[98]\ttrain-auc:0.836543\teval-auc:0.754979\n",
      "[99]\ttrain-auc:0.8372\teval-auc:0.754916\n",
      "[100]\ttrain-auc:0.837996\teval-auc:0.754773\n",
      "[101]\ttrain-auc:0.838803\teval-auc:0.754862\n",
      "[102]\ttrain-auc:0.839667\teval-auc:0.75482\n",
      "[103]\ttrain-auc:0.840006\teval-auc:0.754799\n",
      "[104]\ttrain-auc:0.840223\teval-auc:0.754813\n",
      "[105]\ttrain-auc:0.840771\teval-auc:0.754859\n",
      "[106]\ttrain-auc:0.841526\teval-auc:0.754912\n",
      "[107]\ttrain-auc:0.842108\teval-auc:0.754916\n",
      "[108]\ttrain-auc:0.842904\teval-auc:0.754885\n",
      "Stopping. Best iteration:\n",
      "[98]\ttrain-auc:0.836543\teval-auc:0.754979\n",
      "\n"
     ]
    }
   ],
   "source": [
    "num_rounds = 500\n",
    "model_cv = xgb.train(plst, xgtrain, num_rounds, evals = watchlist, early_stopping_rounds = 10, verbose_eval = True)"
   ]
  },
  {
   "cell_type": "code",
   "execution_count": 152,
   "metadata": {},
   "outputs": [],
   "source": [
    "testxg_pred = model_cv.predict(xgtest)"
   ]
  },
  {
   "cell_type": "code",
   "execution_count": 154,
   "metadata": {},
   "outputs": [],
   "source": [
    "test_id=test_test['SK_ID_CURR'] #this code is to run the above code"
   ]
  },
  {
   "cell_type": "code",
   "execution_count": 156,
   "metadata": {},
   "outputs": [],
   "source": [
    "preds = pd.DataFrame({\"SK_ID_CURR\": test_id, \"TARGET\": testxg_pred})"
   ]
  },
  {
   "cell_type": "code",
   "execution_count": 157,
   "metadata": {},
   "outputs": [],
   "source": [
    "preds.to_csv(\"xgb_model22aug.csv\", index = False)"
   ]
  },
  {
   "cell_type": "code",
   "execution_count": 163,
   "metadata": {},
   "outputs": [
    {
     "data": {
      "text/plain": [
       "array([0.07315244, 0.11805271, 0.02296047, ..., 0.04120607, 0.05247214,\n",
       "       0.21234776], dtype=float32)"
      ]
     },
     "execution_count": 163,
     "metadata": {},
     "output_type": "execute_result"
    }
   ],
   "source": [
    "testxg_pred"
   ]
  },
  {
   "cell_type": "code",
   "execution_count": null,
   "metadata": {},
   "outputs": [],
   "source": [
    "#  to determine the acccuracy or any metric we need test set of target variable which we don't have with us. so I'll submit the \n",
    "# xgb_model22aug.csv to check how good the model predicts on unseen data."
   ]
  },
  {
   "cell_type": "markdown",
   "metadata": {},
   "source": [
    "### feature importance"
   ]
  },
  {
   "cell_type": "code",
   "execution_count": 166,
   "metadata": {},
   "outputs": [],
   "source": [
    "feat_imp = pd.Series(model_cv.get_fscore()).sort_values(ascending=False)"
   ]
  },
  {
   "cell_type": "code",
   "execution_count": 173,
   "metadata": {},
   "outputs": [
    {
     "data": {
      "image/png": "[encoded data removed]",
      "text/plain": [
       "<matplotlib.figure.Figure at 0x29a060f0>"
      ]
     },
     "metadata": {},
     "output_type": "display_data"
    }
   ],
   "source": [
    "import matplotlib.pyplot as plt\n",
    "feat_imp[:25].plot(kind='bar', title='Feature Importances')\n",
    "plt.ylabel('Feature Importance Score')\n",
    "plt.show()"
   ]
  },
  {
   "cell_type": "code",
   "execution_count": null,
   "metadata": {},
   "outputs": [],
   "source": []
  },
  {
   "cell_type": "code",
   "execution_count": null,
   "metadata": {},
   "outputs": [],
   "source": []
  },
  {
   "cell_type": "code",
   "execution_count": 165,
   "metadata": {},
   "outputs": [],
   "source": [
    "import pickle\n",
    "pickle.dump(model_cv, open(\"xgb_model13july.pickle.dat\", \"wb\"))"
   ]
  },
  {
   "cell_type": "code",
   "execution_count": 78,
   "metadata": {},
   "outputs": [],
   "source": [
    "loaded_model = pickle.load(open(\"xgb_model13july.pickle.dat\", \"rb\"))"
   ]
  },
  {
   "cell_type": "code",
   "execution_count": null,
   "metadata": {},
   "outputs": [],
   "source": []
  }
 ],
 "metadata": {
  "kernelspec": {
   "display_name": "Python 3",
   "language": "python",
   "name": "python3"
  },
  "language_info": {
   "codemirror_mode": {
    "name": "ipython",
    "version": 3
   },
   "file_extension": ".py",
   "mimetype": "text/x-python",
   "name": "python",
   "nbconvert_exporter": "python",
   "pygments_lexer": "ipython3",
   "version": "3.6.4"
  }
 },
 "nbformat": 4,
 "nbformat_minor": 2
}
